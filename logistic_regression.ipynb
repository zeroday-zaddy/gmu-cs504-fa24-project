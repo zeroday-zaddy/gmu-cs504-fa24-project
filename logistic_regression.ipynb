{
 "cells": [
  {
   "cell_type": "markdown",
   "metadata": {},
   "source": [
    "# Logistic Regression "
   ]
  },
  {
   "cell_type": "markdown",
   "metadata": {},
   "source": [
    "## Data Exploration/Inspection"
   ]
  },
  {
   "cell_type": "code",
   "execution_count": 88,
   "metadata": {},
   "outputs": [],
   "source": [
    "import pandas as pd\n",
    "\n",
    "df = pd.read_csv('data/COVID-19_Case_Surveillance_Public_Use_Data_with_Geography_20241111.csv')"
   ]
  },
  {
   "cell_type": "code",
   "execution_count": 89,
   "metadata": {},
   "outputs": [
    {
     "data": {
      "text/html": [
       "<div>\n",
       "<style scoped>\n",
       "    .dataframe tbody tr th:only-of-type {\n",
       "        vertical-align: middle;\n",
       "    }\n",
       "\n",
       "    .dataframe tbody tr th {\n",
       "        vertical-align: top;\n",
       "    }\n",
       "\n",
       "    .dataframe thead th {\n",
       "        text-align: right;\n",
       "    }\n",
       "</style>\n",
       "<table border=\"1\" class=\"dataframe\">\n",
       "  <thead>\n",
       "    <tr style=\"text-align: right;\">\n",
       "      <th></th>\n",
       "      <th>case_month</th>\n",
       "      <th>res_state</th>\n",
       "      <th>state_fips_code</th>\n",
       "      <th>res_county</th>\n",
       "      <th>county_fips_code</th>\n",
       "      <th>age_group</th>\n",
       "      <th>sex</th>\n",
       "      <th>race</th>\n",
       "      <th>ethnicity</th>\n",
       "      <th>case_positive_specimen_interval</th>\n",
       "      <th>case_onset_interval</th>\n",
       "      <th>process</th>\n",
       "      <th>exposure_yn</th>\n",
       "      <th>current_status</th>\n",
       "      <th>symptom_status</th>\n",
       "      <th>hosp_yn</th>\n",
       "      <th>icu_yn</th>\n",
       "      <th>death_yn</th>\n",
       "      <th>underlying_conditions_yn</th>\n",
       "    </tr>\n",
       "  </thead>\n",
       "  <tbody>\n",
       "    <tr>\n",
       "      <th>0</th>\n",
       "      <td>2024-06</td>\n",
       "      <td>VA</td>\n",
       "      <td>51</td>\n",
       "      <td>VIRGINIA BEACH CITY</td>\n",
       "      <td>51810.0</td>\n",
       "      <td>65+ years</td>\n",
       "      <td>Female</td>\n",
       "      <td>White</td>\n",
       "      <td>Non-Hispanic/Latino</td>\n",
       "      <td>0.0</td>\n",
       "      <td>0.0</td>\n",
       "      <td>Routine surveillance</td>\n",
       "      <td>Yes</td>\n",
       "      <td>Laboratory-confirmed case</td>\n",
       "      <td>Symptomatic</td>\n",
       "      <td>No</td>\n",
       "      <td>No</td>\n",
       "      <td>No</td>\n",
       "      <td>Yes</td>\n",
       "    </tr>\n",
       "    <tr>\n",
       "      <th>1</th>\n",
       "      <td>2024-06</td>\n",
       "      <td>VA</td>\n",
       "      <td>51</td>\n",
       "      <td>VIRGINIA BEACH CITY</td>\n",
       "      <td>51810.0</td>\n",
       "      <td>65+ years</td>\n",
       "      <td>Female</td>\n",
       "      <td>White</td>\n",
       "      <td>Non-Hispanic/Latino</td>\n",
       "      <td>1.0</td>\n",
       "      <td>0.0</td>\n",
       "      <td>Routine surveillance</td>\n",
       "      <td>Yes</td>\n",
       "      <td>Probable Case</td>\n",
       "      <td>Symptomatic</td>\n",
       "      <td>No</td>\n",
       "      <td>No</td>\n",
       "      <td>No</td>\n",
       "      <td>Yes</td>\n",
       "    </tr>\n",
       "    <tr>\n",
       "      <th>2</th>\n",
       "      <td>2024-06</td>\n",
       "      <td>VA</td>\n",
       "      <td>51</td>\n",
       "      <td>VIRGINIA BEACH CITY</td>\n",
       "      <td>51810.0</td>\n",
       "      <td>65+ years</td>\n",
       "      <td>Female</td>\n",
       "      <td>White</td>\n",
       "      <td>Non-Hispanic/Latino</td>\n",
       "      <td>0.0</td>\n",
       "      <td>0.0</td>\n",
       "      <td>Routine surveillance</td>\n",
       "      <td>Yes</td>\n",
       "      <td>Probable Case</td>\n",
       "      <td>Symptomatic</td>\n",
       "      <td>Yes</td>\n",
       "      <td>No</td>\n",
       "      <td>No</td>\n",
       "      <td>Yes</td>\n",
       "    </tr>\n",
       "    <tr>\n",
       "      <th>3</th>\n",
       "      <td>2024-06</td>\n",
       "      <td>VA</td>\n",
       "      <td>51</td>\n",
       "      <td>VIRGINIA BEACH CITY</td>\n",
       "      <td>51810.0</td>\n",
       "      <td>65+ years</td>\n",
       "      <td>Female</td>\n",
       "      <td>White</td>\n",
       "      <td>Non-Hispanic/Latino</td>\n",
       "      <td>0.0</td>\n",
       "      <td>0.0</td>\n",
       "      <td>Routine surveillance</td>\n",
       "      <td>Yes</td>\n",
       "      <td>Probable Case</td>\n",
       "      <td>Symptomatic</td>\n",
       "      <td>No</td>\n",
       "      <td>No</td>\n",
       "      <td>No</td>\n",
       "      <td>Yes</td>\n",
       "    </tr>\n",
       "    <tr>\n",
       "      <th>4</th>\n",
       "      <td>2024-06</td>\n",
       "      <td>VA</td>\n",
       "      <td>51</td>\n",
       "      <td>VIRGINIA BEACH CITY</td>\n",
       "      <td>51810.0</td>\n",
       "      <td>65+ years</td>\n",
       "      <td>Female</td>\n",
       "      <td>White</td>\n",
       "      <td>Non-Hispanic/Latino</td>\n",
       "      <td>0.0</td>\n",
       "      <td>0.0</td>\n",
       "      <td>Routine surveillance</td>\n",
       "      <td>Yes</td>\n",
       "      <td>Probable Case</td>\n",
       "      <td>Symptomatic</td>\n",
       "      <td>No</td>\n",
       "      <td>No</td>\n",
       "      <td>No</td>\n",
       "      <td>Yes</td>\n",
       "    </tr>\n",
       "  </tbody>\n",
       "</table>\n",
       "</div>"
      ],
      "text/plain": [
       "  case_month res_state  state_fips_code           res_county  \\\n",
       "0    2024-06        VA               51  VIRGINIA BEACH CITY   \n",
       "1    2024-06        VA               51  VIRGINIA BEACH CITY   \n",
       "2    2024-06        VA               51  VIRGINIA BEACH CITY   \n",
       "3    2024-06        VA               51  VIRGINIA BEACH CITY   \n",
       "4    2024-06        VA               51  VIRGINIA BEACH CITY   \n",
       "\n",
       "   county_fips_code  age_group     sex   race            ethnicity  \\\n",
       "0           51810.0  65+ years  Female  White  Non-Hispanic/Latino   \n",
       "1           51810.0  65+ years  Female  White  Non-Hispanic/Latino   \n",
       "2           51810.0  65+ years  Female  White  Non-Hispanic/Latino   \n",
       "3           51810.0  65+ years  Female  White  Non-Hispanic/Latino   \n",
       "4           51810.0  65+ years  Female  White  Non-Hispanic/Latino   \n",
       "\n",
       "   case_positive_specimen_interval  case_onset_interval               process  \\\n",
       "0                              0.0                  0.0  Routine surveillance   \n",
       "1                              1.0                  0.0  Routine surveillance   \n",
       "2                              0.0                  0.0  Routine surveillance   \n",
       "3                              0.0                  0.0  Routine surveillance   \n",
       "4                              0.0                  0.0  Routine surveillance   \n",
       "\n",
       "  exposure_yn             current_status symptom_status hosp_yn icu_yn  \\\n",
       "0         Yes  Laboratory-confirmed case    Symptomatic      No     No   \n",
       "1         Yes              Probable Case    Symptomatic      No     No   \n",
       "2         Yes              Probable Case    Symptomatic     Yes     No   \n",
       "3         Yes              Probable Case    Symptomatic      No     No   \n",
       "4         Yes              Probable Case    Symptomatic      No     No   \n",
       "\n",
       "  death_yn underlying_conditions_yn  \n",
       "0       No                      Yes  \n",
       "1       No                      Yes  \n",
       "2       No                      Yes  \n",
       "3       No                      Yes  \n",
       "4       No                      Yes  "
      ]
     },
     "execution_count": 89,
     "metadata": {},
     "output_type": "execute_result"
    }
   ],
   "source": [
    "df.head(5)"
   ]
  },
  {
   "cell_type": "code",
   "execution_count": 90,
   "metadata": {},
   "outputs": [],
   "source": [
    "df = df.drop(['res_state', 'res_county'], axis=1)"
   ]
  },
  {
   "cell_type": "code",
   "execution_count": 91,
   "metadata": {},
   "outputs": [],
   "source": [
    "categorical_cols = ['case_month','state_fips_code', 'county_fips_code', 'age_group',\n",
    "                  'sex', 'race', 'ethnicity', 'process', 'exposure_yn', 'current_status', \n",
    "                  'symptom_status', 'hosp_yn', 'icu_yn', 'underlying_conditions_yn']\n",
    "numerical_cols = ['case_positive_specimen_interval', 'case_onset_interval']"
   ]
  },
  {
   "cell_type": "code",
   "execution_count": 92,
   "metadata": {},
   "outputs": [],
   "source": [
    "import textwrap"
   ]
  },
  {
   "cell_type": "code",
   "execution_count": 93,
   "metadata": {},
   "outputs": [],
   "source": [
    "def print_na_count(df, col):\n",
    "    na_count = df[df[col].isna()].shape[0]\n",
    "    print(f'{col} null values: {na_count}')\n"
   ]
  },
  {
   "cell_type": "code",
   "execution_count": 94,
   "metadata": {},
   "outputs": [],
   "source": [
    "def print_unique(df, col):\n",
    "    u = df[col].unique()\n",
    "    print(u.shape)\n",
    "    if u.shape[0] <= 10:\n",
    "        print(u)\n",
    "    else:\n",
    "        print(textwrap.shorten(str(u), width=70, placeholder=\"...\"))"
   ]
  },
  {
   "cell_type": "code",
   "execution_count": 95,
   "metadata": {},
   "outputs": [
    {
     "name": "stdout",
     "output_type": "stream",
     "text": [
      "case_month\n",
      "(52,)\n",
      "['2024-06' '2024-05' '2024-04' '2024-03' '2024-02' '2024-01'...\n",
      "case_month null values: 0\n",
      "state_fips_code\n",
      "(30,)\n",
      "[51 39 23 16 55 21 11 41 31 20 32 28 78 12 50 36 2 18 49 42 19 72...\n",
      "state_fips_code null values: 0\n",
      "county_fips_code\n",
      "(464,)\n",
      "[51810. nan 51177. 39049. 23019. 23031. 51087. 51710. 23005. 39139....\n",
      "county_fips_code null values: 11756\n",
      "age_group\n",
      "(4,)\n",
      "['65+ years' '18 to 49 years' '50 to 64 years' '0 - 17 years']\n",
      "age_group null values: 0\n",
      "sex\n",
      "(2,)\n",
      "['Female' 'Male']\n",
      "sex null values: 0\n",
      "race\n",
      "(6,)\n",
      "['White' 'Black' 'Multiple/Other' 'Asian' 'American Indian/Alaska Native'\n",
      " 'Native Hawaiian/Other Pacific Islander']\n",
      "race null values: 0\n",
      "ethnicity\n",
      "(2,)\n",
      "['Non-Hispanic/Latino' 'Hispanic/Latino']\n",
      "ethnicity null values: 0\n",
      "process\n",
      "(9,)\n",
      "['Routine surveillance' 'Laboratory reported' 'Provider reported'\n",
      " 'Clinical evaluation' 'Multiple' 'Other'\n",
      " 'Contact tracing of case patient' 'Routine physical examination'\n",
      " 'Autopsy']\n",
      "process null values: 0\n",
      "exposure_yn\n",
      "(1,)\n",
      "['Yes']\n",
      "exposure_yn null values: 0\n",
      "current_status\n",
      "(2,)\n",
      "['Laboratory-confirmed case' 'Probable Case']\n",
      "current_status null values: 0\n",
      "symptom_status\n",
      "(2,)\n",
      "['Symptomatic' 'Asymptomatic']\n",
      "symptom_status null values: 0\n",
      "hosp_yn\n",
      "(2,)\n",
      "['No' 'Yes']\n",
      "hosp_yn null values: 0\n",
      "icu_yn\n",
      "(2,)\n",
      "['No' 'Yes']\n",
      "icu_yn null values: 0\n",
      "underlying_conditions_yn\n",
      "(2,)\n",
      "['Yes' 'No']\n",
      "underlying_conditions_yn null values: 0\n"
     ]
    }
   ],
   "source": [
    "for col in categorical_cols:\n",
    "    print(col)\n",
    "    print_unique(df, col)\n",
    "    print_na_count(df, col)\n"
   ]
  },
  {
   "cell_type": "code",
   "execution_count": 96,
   "metadata": {},
   "outputs": [
    {
     "name": "stdout",
     "output_type": "stream",
     "text": [
      "case_positive_specimen_interval\n",
      "case_positive_specimen_interval null values: 109308\n",
      "case_onset_interval\n",
      "case_onset_interval null values: 13813\n"
     ]
    }
   ],
   "source": [
    "for col in numerical_cols:\n",
    "    print(col)\n",
    "    print_na_count(df, col)"
   ]
  },
  {
   "cell_type": "markdown",
   "metadata": {},
   "source": [
    "County fips code seems to be the only categorical column with nulls.\\\n",
    "I may possibly remove case_positive_specimen_interval, case_onset_interval...\\\n",
    "These are calculated weeks difference from pos_spec_dt and onset_dt respectively...\\\n",
    "maybe making them zero if null makes sense since the record wouldnt exist without knowing they have covid..."
   ]
  },
  {
   "cell_type": "code",
   "execution_count": 97,
   "metadata": {},
   "outputs": [
    {
     "data": {
      "text/plain": [
       "['case_month',\n",
       " 'state_fips_code',\n",
       " 'age_group',\n",
       " 'sex',\n",
       " 'race',\n",
       " 'ethnicity',\n",
       " 'process',\n",
       " 'exposure_yn',\n",
       " 'current_status',\n",
       " 'symptom_status',\n",
       " 'hosp_yn',\n",
       " 'icu_yn',\n",
       " 'underlying_conditions_yn']"
      ]
     },
     "execution_count": 97,
     "metadata": {},
     "output_type": "execute_result"
    }
   ],
   "source": [
    "categorical_cols = [x for x in categorical_cols if x != 'county_fips_code']\n",
    "df = df.drop(['county_fips_code'], axis=1)\n",
    "categorical_cols"
   ]
  },
  {
   "cell_type": "code",
   "execution_count": 98,
   "metadata": {},
   "outputs": [],
   "source": [
    "df[numerical_cols] = df[numerical_cols].fillna(0)"
   ]
  },
  {
   "cell_type": "markdown",
   "metadata": {},
   "source": [
    "## One Hot Encoding"
   ]
  },
  {
   "cell_type": "code",
   "execution_count": 99,
   "metadata": {},
   "outputs": [],
   "source": [
    "import numpy as np\n",
    "import sklearn\n",
    "from sklearn.preprocessing import OneHotEncoder\n",
    "from sklearn.compose import ColumnTransformer"
   ]
  },
  {
   "cell_type": "code",
   "execution_count": 100,
   "metadata": {},
   "outputs": [],
   "source": [
    "np.random.seed(777)"
   ]
  },
  {
   "cell_type": "code",
   "execution_count": 101,
   "metadata": {},
   "outputs": [
    {
     "name": "stdout",
     "output_type": "stream",
     "text": [
      "1.6.0\n"
     ]
    }
   ],
   "source": [
    "print(sklearn.__version__)"
   ]
  },
  {
   "cell_type": "code",
   "execution_count": 102,
   "metadata": {},
   "outputs": [
    {
     "name": "stdout",
     "output_type": "stream",
     "text": [
      "(175407, 112)\n"
     ]
    }
   ],
   "source": [
    "encoder = OneHotEncoder(sparse_output=False, drop='if_binary')\n",
    "ct = ColumnTransformer(\n",
    "    transformers=[\n",
    "        ('onehot', encoder, categorical_cols)\n",
    "    ],\n",
    "    remainder='passthrough'  # Keep other columns as is\n",
    ")\n",
    "transformed_array = ct.fit_transform(df)\n",
    "print(transformed_array.shape)"
   ]
  },
  {
   "cell_type": "markdown",
   "metadata": {},
   "source": [
    "categorical columns are now 533 one hot columns"
   ]
  },
  {
   "cell_type": "code",
   "execution_count": 103,
   "metadata": {},
   "outputs": [
    {
     "name": "stdout",
     "output_type": "stream",
     "text": [
      "onehot (109,) + numeric (3,) = all (112,)\n",
      "random one hot features:\n",
      "['exposure_yn_Yes' 'case_month_2024-02' 'state_fips_code_19'\n",
      " 'case_month_2023-05' 'race_American Indian/Alaska Native'\n",
      " 'case_month_2024-04' 'state_fips_code_41' 'case_month_2022-08'\n",
      " 'case_month_2023-06' 'race_Black']\n"
     ]
    }
   ],
   "source": [
    "onehot_features = ct.named_transformers_['onehot'].get_feature_names_out(categorical_cols)\n",
    "numeric_features = df.columns.difference(categorical_cols)\n",
    "all_features = np.concatenate([onehot_features, numeric_features])\n",
    "\n",
    "print(f'onehot {onehot_features.shape} + numeric {numeric_features.shape} = all {all_features.shape}')\n",
    "print('random one hot features:')\n",
    "print(onehot_features[np.random.randint(0, onehot_features.shape[0], size=(10))])"
   ]
  },
  {
   "cell_type": "code",
   "execution_count": 104,
   "metadata": {},
   "outputs": [],
   "source": [
    "transformed_df = pd.DataFrame(\n",
    "    transformed_array,\n",
    "    columns=all_features\n",
    ")"
   ]
  },
  {
   "cell_type": "markdown",
   "metadata": {},
   "source": [
    "## Model Training"
   ]
  },
  {
   "cell_type": "code",
   "execution_count": 105,
   "metadata": {},
   "outputs": [],
   "source": [
    "from sklearn.model_selection import train_test_split\n",
    "from sklearn.linear_model import LogisticRegression"
   ]
  },
  {
   "cell_type": "markdown",
   "metadata": {},
   "source": [
    "### Define features, target, and train/test split"
   ]
  },
  {
   "cell_type": "code",
   "execution_count": 106,
   "metadata": {},
   "outputs": [],
   "source": [
    "X = transformed_df[transformed_df.columns.difference(['death_yn'])] \n",
    "y = transformed_df['death_yn'].map({'Yes': 1, 'No': 0})\n",
    "X_train, X_test, y_train, y_test = train_test_split(\n",
    "    X, y, test_size=0.2, random_state=42\n",
    ")"
   ]
  },
  {
   "cell_type": "code",
   "execution_count": 107,
   "metadata": {},
   "outputs": [],
   "source": [
    "from sklearn.model_selection import train_test_split, StratifiedKFold\n",
    "import matplotlib.pyplot as plt"
   ]
  },
  {
   "cell_type": "code",
   "execution_count": 108,
   "metadata": {},
   "outputs": [
    {
     "data": {
      "text/plain": [
       "<Figure size 1000x800 with 0 Axes>"
      ]
     },
     "execution_count": 108,
     "metadata": {},
     "output_type": "execute_result"
    },
    {
     "data": {
      "text/plain": [
       "<Figure size 1000x800 with 0 Axes>"
      ]
     },
     "metadata": {},
     "output_type": "display_data"
    }
   ],
   "source": [
    "# Set up cross-validation\n",
    "n_splits = 5\n",
    "cv = StratifiedKFold(n_splits=n_splits, shuffle=True, random_state=42)\n",
    "\n",
    "# Initialize arrays for ROC curve analysis\n",
    "cv_scores = []\n",
    "tprs = []\n",
    "aucs = []\n",
    "mean_fpr = np.linspace(0, 1, 100)\n",
    "\n",
    "# Create figure for ROC curves\n",
    "plt.figure(figsize=(10, 8))"
   ]
  },
  {
   "cell_type": "code",
   "execution_count": 109,
   "metadata": {},
   "outputs": [],
   "source": [
    "from sklearn.metrics import roc_curve, auc, accuracy_score, classification_report, confusion_matrix\n"
   ]
  },
  {
   "cell_type": "code",
   "execution_count": 110,
   "metadata": {},
   "outputs": [
    {
     "data": {
      "image/png": "[encoded data removed]",
      "text/plain": [
       "<Figure size 640x480 with 1 Axes>"
      ]
     },
     "metadata": {},
     "output_type": "display_data"
    }
   ],
   "source": [
    "# Perform cross-validation and plot ROC curves\n",
    "for fold, (train_idx, val_idx) in enumerate(cv.split(X_train, y_train)):\n",
    "    X_fold_train, X_fold_val = X_train.iloc[train_idx], X_train.iloc[val_idx]\n",
    "    y_fold_train, y_fold_val = y_train.iloc[train_idx], y_train.iloc[val_idx]\n",
    "    \n",
    "    # Train model\n",
    "    model = LogisticRegression(max_iter=1000)\n",
    "    model.fit(X_fold_train, y_fold_train)\n",
    "    \n",
    "    # Get predictions\n",
    "    y_fold_pred = model.predict(X_fold_val)\n",
    "    fold_score = accuracy_score(y_fold_val, y_fold_pred)\n",
    "    cv_scores.append(fold_score)\n",
    "    \n",
    "    # Compute ROC curve and plot\n",
    "    y_fold_proba = model.predict_proba(X_fold_val)[:, 1]\n",
    "    fpr, tpr, _ = roc_curve(y_fold_val, y_fold_proba)\n",
    "    \n",
    "    plt.plot(fpr, tpr, lw=1, alpha=0.3,\n",
    "             label=f'ROC fold {fold+1} (AUC = {auc(fpr, tpr):.2f})')\n",
    "    \n",
    "    # Store interpolated TPR values\n",
    "    interp_tpr = np.interp(mean_fpr, fpr, tpr)\n",
    "    interp_tpr[0] = 0.0\n",
    "    tprs.append(interp_tpr)\n",
    "    aucs.append(auc(fpr, tpr))"
   ]
  },
  {
   "cell_type": "code",
   "execution_count": 111,
   "metadata": {},
   "outputs": [
    {
     "data": {
      "text/plain": [
       "<matplotlib.collections.PolyCollection at 0x7f6925565310>"
      ]
     },
     "execution_count": 111,
     "metadata": {},
     "output_type": "execute_result"
    },
    {
     "data": {
      "image/png": "[encoded data removed]",
      "text/plain": [
       "<Figure size 640x480 with 1 Axes>"
      ]
     },
     "metadata": {},
     "output_type": "display_data"
    }
   ],
   "source": [
    "# Plot mean ROC curve and confidence interval\n",
    "mean_tpr = np.mean(tprs, axis=0)\n",
    "mean_tpr[-1] = 1.0\n",
    "mean_auc = np.mean(aucs)\n",
    "std_auc = np.std(aucs)\n",
    "\n",
    "plt.plot(mean_fpr, mean_tpr, 'b-',\n",
    "         label=f'Mean ROC (AUC = {mean_auc:.2f} ± {std_auc:.2f})',\n",
    "         lw=2, alpha=0.8)\n",
    "\n",
    "std_tpr = np.std(tprs, axis=0)\n",
    "tprs_upper = np.minimum(mean_tpr + std_tpr, 1)\n",
    "tprs_lower = np.maximum(mean_tpr - std_tpr, 0)\n",
    "plt.fill_between(mean_fpr, tprs_lower, tprs_upper, color='grey', alpha=0.2,\n",
    "                 label=f'± 1 std. dev.')"
   ]
  },
  {
   "cell_type": "code",
   "execution_count": 112,
   "metadata": {},
   "outputs": [
    {
     "data": {
      "image/png": "[encoded data removed]",
      "text/plain": [
       "<Figure size 640x480 with 1 Axes>"
      ]
     },
     "metadata": {},
     "output_type": "display_data"
    }
   ],
   "source": [
    "# Add final test set ROC curve\n",
    "final_model = LogisticRegression(max_iter=1000)\n",
    "final_model.fit(X_train, y_train)\n",
    "y_pred = final_model.predict(X_test)\n",
    "y_pred_proba = final_model.predict_proba(X_test)[:, 1]\n",
    "\n",
    "fpr_test, tpr_test, _ = roc_curve(y_test, y_pred_proba)\n",
    "plt.plot(fpr_test, tpr_test, 'r-',\n",
    "         label=f'Test ROC (AUC = {auc(fpr_test, tpr_test):.2f})',\n",
    "         lw=2, alpha=0.8)\n",
    "\n",
    "# Add random prediction line\n",
    "plt.plot([0, 1], [0, 1], 'k--', label='Random', alpha=0.5)\n",
    "\n",
    "# Customize plot\n",
    "plt.xlim([-0.05, 1.05])\n",
    "plt.ylim([-0.05, 1.05])\n",
    "plt.xlabel('False Positive Rate')\n",
    "plt.ylabel('True Positive Rate')\n",
    "plt.title('ROC Curves with Cross-Validation')\n",
    "plt.legend(loc=\"lower right\")\n",
    "plt.grid(True)\n",
    "plt.show()"
   ]
  },
  {
   "cell_type": "code",
   "execution_count": 113,
   "metadata": {},
   "outputs": [
    {
     "name": "stdout",
     "output_type": "stream",
     "text": [
      "\n",
      "Cross-validation Results:\n",
      "Fold 1: 0.9831\n",
      "Fold 2: 0.9829\n",
      "Fold 3: 0.9830\n",
      "Fold 4: 0.9820\n",
      "Fold 5: 0.9831\n",
      "\n",
      "Mean CV Score: 0.9828 (±0.0004)\n",
      "\n",
      "Final Model Results:\n",
      "Accuracy: 0.9816\n",
      "\n",
      "Classification Report:\n",
      "              precision    recall  f1-score   support\n",
      "\n",
      "           0       0.98      1.00      0.99     34409\n",
      "           1       0.57      0.17      0.26       673\n",
      "\n",
      "    accuracy                           0.98     35082\n",
      "   macro avg       0.78      0.58      0.63     35082\n",
      "weighted avg       0.98      0.98      0.98     35082\n",
      "\n"
     ]
    }
   ],
   "source": [
    "# Print cross-validation results\n",
    "print(\"\\nCross-validation Results:\")\n",
    "for fold, score in enumerate(cv_scores, 1):\n",
    "    print(f\"Fold {fold}: {score:.4f}\")\n",
    "print(f\"\\nMean CV Score: {np.mean(cv_scores):.4f} (±{np.std(cv_scores):.4f})\")\n",
    "\n",
    "# Print final model results\n",
    "print(\"\\nFinal Model Results:\")\n",
    "print(f\"Accuracy: {accuracy_score(y_test, y_pred):.4f}\")\n",
    "print(\"\\nClassification Report:\")\n",
    "print(classification_report(y_test, y_pred))"
   ]
  },
  {
   "cell_type": "code",
   "execution_count": 114,
   "metadata": {},
   "outputs": [
    {
     "data": {
      "image/png": "[encoded data removed]",
      "text/plain": [
       "<Figure size 800x600 with 2 Axes>"
      ]
     },
     "metadata": {},
     "output_type": "display_data"
    }
   ],
   "source": [
    "# Plot confusion matrix\n",
    "plt.figure(figsize=(8, 6))\n",
    "conf_matrix = confusion_matrix(y_test, y_pred)\n",
    "plt.imshow(conf_matrix, cmap='Blues')\n",
    "plt.title('Confusion Matrix')\n",
    "plt.colorbar()\n",
    "\n",
    "# Add labels to each cell\n",
    "thresh = conf_matrix.max() / 2\n",
    "for i in range(2):\n",
    "    for j in range(2):\n",
    "        plt.text(j, i, format(conf_matrix[i, j], 'd'),\n",
    "                ha=\"center\", va=\"center\",\n",
    "                color=\"white\" if conf_matrix[i, j] > thresh else \"black\")\n",
    "\n",
    "plt.xlabel('Predicted label')\n",
    "plt.ylabel('True label')\n",
    "plt.xticks([0, 1], ['No Death', 'Death'])\n",
    "plt.yticks([0, 1], ['No Death', 'Death'])\n",
    "plt.show()"
   ]
  },
  {
   "cell_type": "code",
   "execution_count": 115,
   "metadata": {},
   "outputs": [],
   "source": [
    "# Save ROC data\n",
    "# Create directories if they don't exist\n",
    "os.makedirs('data/logisitic_regression', exist_ok=True)\n",
    "\n",
    "# Prepare ROC data for saving\n",
    "roc_data = {\n",
    "    'mean_fpr': mean_fpr.tolist(),\n",
    "    'mean_tpr': mean_tpr.tolist(),\n",
    "    'mean_auc': float(mean_auc),\n",
    "    'std_auc': float(std_auc),\n",
    "    'final_fpr': fpr_test.tolist(),\n",
    "    'final_tpr': tpr_test.tolist(),\n",
    "    'final_auc': float(auc(fpr_test, tpr_test))\n",
    "}\n",
    "\n",
    "# Save to JSON\n",
    "with open('data/logisitic_regression/roc_data.json', 'w') as f:\n",
    "    json.dump(roc_data, f)"
   ]
  },
  {
   "cell_type": "code",
   "execution_count": 116,
   "metadata": {},
   "outputs": [
    {
     "name": "stdout",
     "output_type": "stream",
     "text": [
      "Training set - live count: 137833, death count: 2492\n",
      "Ratio (lives/deaths): 55.31\n",
      "\n",
      "Full dataset - live count: 172242, death count: 3165\n",
      "Ratio (lives/deaths): 54.42\n"
     ]
    }
   ],
   "source": [
    "# Print class distribution information\n",
    "lives = y_train[y_train == 0].shape[0]\n",
    "dies = y_train[y_train == 1].shape[0]\n",
    "print(f\"Training set - live count: {lives}, death count: {dies}\")\n",
    "print(f\"Ratio (lives/deaths): {lives/dies:.2f}\")\n",
    "\n",
    "lives = df[df['death_yn'] == 'No'].shape[0]\n",
    "dies = df[df['death_yn'] == 'Yes'].shape[0]\n",
    "print(f\"\\nFull dataset - live count: {lives}, death count: {dies}\")\n",
    "print(f\"Ratio (lives/deaths): {lives/dies:.2f}\")"
   ]
  }
 ],
 "metadata": {
  "kernelspec": {
   "display_name": "gmu-cs504",
   "language": "python",
   "name": "python3"
  },
  "language_info": {
   "codemirror_mode": {
    "name": "ipython",
    "version": 3
   },
   "file_extension": ".py",
   "mimetype": "text/x-python",
   "name": "python",
   "nbconvert_exporter": "python",
   "pygments_lexer": "ipython3",
   "version": "3.13.1"
  }
 },
 "nbformat": 4,
 "nbformat_minor": 2
}
